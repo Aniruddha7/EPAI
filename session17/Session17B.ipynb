{
  "nbformat": 4,
  "nbformat_minor": 0,
  "metadata": {
    "colab": {
      "name": "Session17B.ipynb",
      "provenance": [],
      "collapsed_sections": []
    },
    "kernelspec": {
      "name": "python3",
      "display_name": "Python 3"
    }
  },
  "cells": [
    {
      "cell_type": "code",
      "metadata": {
        "colab": {
          "base_uri": "https://localhost:8080/"
        },
        "id": "k0ShquyeFDUP",
        "outputId": "4b42c550-5890-40f4-9875-f94179c40808"
      },
      "source": [
        "#01\r\n",
        "#Write Python program to figure out smallest number in a user given list\r\n",
        "l1=[]\r\n",
        "number =int (input(\"No.of elements to list:\"))\r\n",
        "for i in range(1,number+1):\r\n",
        "  element=int (input(\"enter the elements:\"))\r\n",
        "  l1.append(element)\r\n",
        "print(\"smallest number in list\", min(l1))"
      ],
      "execution_count": null,
      "outputs": [
        {
          "output_type": "stream",
          "text": [
            "No.of elements to list:6\n",
            "enter the elements:10\n",
            "enter the elements:15\n",
            "enter the elements:7\n",
            "enter the elements:21\n",
            "enter the elements:16\n",
            "enter the elements:15\n",
            "smallest number in list 7\n"
          ],
          "name": "stdout"
        }
      ]
    },
    {
      "cell_type": "code",
      "metadata": {
        "colab": {
          "base_uri": "https://localhost:8080/"
        },
        "id": "a5-1_Y3fMY1C",
        "outputId": "305887b1-dbec-4d83-fe07-aacbd0981123"
      },
      "source": [
        "#02\r\n",
        "#Write python funtion to convert a list into dictionary\r\n",
        "def convert_to_dict(lst1):\r\n",
        "  iterator=iter(lst1)\r\n",
        "  dictionary= dict(zip(iterator, iterator))\r\n",
        "  return dictionary\r\n",
        "\r\n",
        "lst1= ['Emp_name', 'xyz', 'Emp_id', 123]\r\n",
        "print(convert_to_dict(lst1))"
      ],
      "execution_count": null,
      "outputs": [
        {
          "output_type": "stream",
          "text": [
            "{'Emp_name': 'xyz', 'Emp_id': 123}\n"
          ],
          "name": "stdout"
        }
      ]
    },
    {
      "cell_type": "code",
      "metadata": {
        "colab": {
          "base_uri": "https://localhost:8080/"
        },
        "id": "3aPPkVLlPQQm",
        "outputId": "be936782-2aa4-4108-f800-6c4fbf8d1ee7"
      },
      "source": [
        "#03\r\n",
        "#Write python program to convert dictionary to tuples list\r\n",
        "\r\n",
        "dict1= {'Emp_name': 'xyz', 'Emp_id':123}\r\n",
        "\r\n",
        "list2= [(k,v) for k,v in dict1.items()]\r\n",
        "print(list2)"
      ],
      "execution_count": null,
      "outputs": [
        {
          "output_type": "stream",
          "text": [
            "[('Emp_name', 'xyz'), ('Emp_id', 123)]\n"
          ],
          "name": "stdout"
        }
      ]
    },
    {
      "cell_type": "code",
      "metadata": {
        "colab": {
          "base_uri": "https://localhost:8080/"
        },
        "id": "_Cm_sLd9WJXv",
        "outputId": "d0edda29-e3b4-4630-fe3e-042f9d2ab8a7"
      },
      "source": [
        "#04\r\n",
        "#Write python funtion to convert decimal number to binary\r\n",
        "\r\n",
        "# decimal value \r\n",
        "decimal = 37\r\n",
        "def dec_to_bin(number):\r\n",
        "  if number>1:\r\n",
        "    dec_to_bin(number // 2)\r\n",
        "  print(number % 2) \r\n",
        "\r\n",
        "# Calling function \r\n",
        "dec_to_bin(decimal) "
      ],
      "execution_count": null,
      "outputs": [
        {
          "output_type": "stream",
          "text": [
            "1\n",
            "0\n",
            "0\n",
            "1\n",
            "0\n",
            "1\n"
          ],
          "name": "stdout"
        }
      ]
    },
    {
      "cell_type": "code",
      "metadata": {
        "colab": {
          "base_uri": "https://localhost:8080/"
        },
        "id": "a8IWW1T-pHNC",
        "outputId": "919d6dc4-1ee8-4348-ddd3-2b12d3ecdd31"
      },
      "source": [
        "#05\r\n",
        "#Write a Python funtion to find the repeated words in a sentence\r\n",
        "\r\n",
        "string= \"A Python programmer sometimes codes in Python but also sometimes codes in C++\"\r\n",
        "def repeated_words(str):\r\n",
        "  str= str.split()\r\n",
        "  string1= []\r\n",
        "  for i in str:              \r\n",
        "  \r\n",
        "        # filtering out repeated words  \r\n",
        "        if i not in string1: \r\n",
        "        # append value in empty list \r\n",
        "            string1.append(i)\r\n",
        "            #print(string1)\r\n",
        "  for i in range(0, len(string1)): \r\n",
        "    print(string1[i], 'is repeated:', str.count(string1[i]), 'times') \r\n",
        "\r\n",
        "repeated_words(string)"
      ],
      "execution_count": null,
      "outputs": [
        {
          "output_type": "stream",
          "text": [
            "A is repeated: 1 times\n",
            "Python is repeated: 2 times\n",
            "programmer is repeated: 1 times\n",
            "sometimes is repeated: 2 times\n",
            "codes is repeated: 2 times\n",
            "in is repeated: 2 times\n",
            "but is repeated: 1 times\n",
            "also is repeated: 1 times\n",
            "C++ is repeated: 1 times\n"
          ],
          "name": "stdout"
        }
      ]
    },
    {
      "cell_type": "code",
      "metadata": {
        "colab": {
          "base_uri": "https://localhost:8080/"
        },
        "id": "Nnr2EIXT8RD1",
        "outputId": "aadfca77-be25-4bf5-b08b-eef90474a531"
      },
      "source": [
        "#06\r\n",
        "#Write a python program to replace the word in the given string\r\n",
        "string =\"Bugatti 16.4 Veyron is the fastest car in the world\"\r\n",
        "print(string)\r\n",
        "print(string.replace(\"Bugatti 16.4 Veyron\", \"Venom F5\", 1)+(\" currently\"))"
      ],
      "execution_count": null,
      "outputs": [
        {
          "output_type": "stream",
          "text": [
            "Bugatti 16.4 Veyron is the fastest car in the world\n",
            "Venom F5 is the fastest car in the world currently\n"
          ],
          "name": "stdout"
        }
      ]
    },
    {
      "cell_type": "code",
      "metadata": {
        "colab": {
          "base_uri": "https://localhost:8080/"
        },
        "id": "rIOMJ2FzIKlL",
        "outputId": "96db401c-e1ce-418b-92cf-6b6403e57306"
      },
      "source": [
        "#07\r\n",
        "#Write python program to check string palindrome\r\n",
        "str1= \"kayak\"\r\n",
        "if str1==str1[::-1]:\r\n",
        "  print(\"string is palindrome\")\r\n",
        "else:\r\n",
        "  print(\"not palindrome\")"
      ],
      "execution_count": null,
      "outputs": [
        {
          "output_type": "stream",
          "text": [
            "string is palindrome\n"
          ],
          "name": "stdout"
        }
      ]
    },
    {
      "cell_type": "code",
      "metadata": {
        "id": "pQXfwJrXJ7og",
        "colab": {
          "base_uri": "https://localhost:8080/"
        },
        "outputId": "2c2dab33-6d37-446c-eaad-16317b6ced10"
      },
      "source": [
        "#08\r\n",
        "#Write a python function to count the number of vowels in string\r\n",
        "vowels = \"aeiou\"\r\n",
        "str= \"Python programming\"\r\n",
        "\r\n",
        "def vowel_count(str, vowels):\r\n",
        "  count={}.fromkeys(vowels, 0)\r\n",
        "  for character in str:\r\n",
        "    if character in count:\r\n",
        "      count[character]+=1\r\n",
        "  return count\r\n",
        "print(vowel_count(str, vowels))"
      ],
      "execution_count": 2,
      "outputs": [
        {
          "output_type": "stream",
          "text": [
            "{'a': 1, 'e': 0, 'i': 1, 'o': 2, 'u': 0}\n"
          ],
          "name": "stdout"
        }
      ]
    },
    {
      "cell_type": "code",
      "metadata": {
        "colab": {
          "base_uri": "https://localhost:8080/"
        },
        "id": "cMAdDFXMSwG0",
        "outputId": "9af90233-7d78-4445-add5-c70d3fa49b08"
      },
      "source": [
        "#09\r\n",
        "#Write python program to find the word with maximum vowels\r\n",
        "\r\n",
        "lis1=[\"car\", \"python\", \"loop\", \"rangefinder\"]\r\n",
        "output= \"\"\r\n",
        "max_length=0\r\n",
        "\r\n",
        "for words in lis1:\r\n",
        "  vowel_length=len([ele for ele in words if ele in['a','e','i','o','u']])\r\n",
        "  if vowel_length>max_length:\r\n",
        "    max_lenght=vowel_length\r\n",
        "    output=words\r\n",
        "print(\"word with max vowels\", output)"
      ],
      "execution_count": 10,
      "outputs": [
        {
          "output_type": "stream",
          "text": [
            "word with max vowels rangefinder\n"
          ],
          "name": "stdout"
        }
      ]
    },
    {
      "cell_type": "code",
      "metadata": {
        "colab": {
          "base_uri": "https://localhost:8080/"
        },
        "id": "c-mI7qduXNiT",
        "outputId": "9ba79d02-f285-4cd9-add5-ae712539fe28"
      },
      "source": [
        "#10\r\n",
        "#write python funtion to find the longest string in the list\r\n",
        "\r\n",
        "def longest_word(word_list):\r\n",
        "    length = []\r\n",
        "    for words in word_list:\r\n",
        "        length.append((len(words), words))\r\n",
        "    length.sort()\r\n",
        "    return length[-1][0], length[-1][1]\r\n",
        "result = longest_word([\"car\", \"Truck\", \"World\", \"Galaxy\", \"Universe\"])\r\n",
        "print(\"Longest word: \",result[1])\r\n",
        "print(\"longest word length: \",result[0])\r\n"
      ],
      "execution_count": 19,
      "outputs": [
        {
          "output_type": "stream",
          "text": [
            "Longest word:  Universe\n",
            "longest word length:  8\n"
          ],
          "name": "stdout"
        }
      ]
    },
    {
      "cell_type": "code",
      "metadata": {
        "colab": {
          "base_uri": "https://localhost:8080/"
        },
        "id": "eYgSjys_c6tN",
        "outputId": "960068b1-6307-45b7-9aac-68e796a110c4"
      },
      "source": [
        "#11\r\n",
        "#Write a python program to create a nested dictionary and delete the key\r\n",
        "dict = {1:'pointer', 2:'pointing to', 3:{1:'another pointer', 2:'is complicated'}}\r\n",
        "print(dict)\r\n",
        "delete= dict.pop(3)\r\n",
        "print(\"\\nupdated dictionary\", dict)\r\n",
        "print(\"removed key\", delete)"
      ],
      "execution_count": 26,
      "outputs": [
        {
          "output_type": "stream",
          "text": [
            "{1: 'pointer', 2: 'pointing to', 3: {1: 'another pointer', 2: 'is complicated'}}\n",
            "\n",
            "updated dictionary {1: 'pointer', 2: 'pointing to'}\n",
            "removed key {1: 'another pointer', 2: 'is complicated'}\n"
          ],
          "name": "stdout"
        }
      ]
    },
    {
      "cell_type": "code",
      "metadata": {
        "colab": {
          "base_uri": "https://localhost:8080/"
        },
        "id": "wapfredjnsIe",
        "outputId": "9c8bfd99-16ce-49e6-d3b1-6d3f5b81655c"
      },
      "source": [
        "#12\r\n",
        "#Write a python program to check if two dictionaries are matching or not\r\n",
        "dict1= {'emp_name':'abc', 'emp_id':123, 'ph_number': 1234567, 'address': 'wxyz'}\r\n",
        "dict2= {'emp_name':'xyz', 'emp_id':456, 'ph_number': 3456789, 'address': 'wxyz'}\r\n",
        "\r\n",
        "key_compare=['emp_name','emp_id', 'ph_number', 'address']\r\n",
        "for key in key_compare:\r\n",
        "  if dict1.get(key)== dict2.get(key):\r\n",
        "    print(key)\r\n",
        "    result=True\r\n",
        "  else:\r\n",
        "    print(key)\r\n",
        "    result=False\r\n",
        "    \r\n",
        "print(\"Same dictionaries\", result)"
      ],
      "execution_count": 11,
      "outputs": [
        {
          "output_type": "stream",
          "text": [
            "emp_name\n",
            "emp_id\n",
            "ph_number\n",
            "address\n",
            "Same dictionaries True\n"
          ],
          "name": "stdout"
        }
      ]
    },
    {
      "cell_type": "code",
      "metadata": {
        "colab": {
          "base_uri": "https://localhost:8080/"
        },
        "id": "dkS9E09e02bv",
        "outputId": "1a3d2465-7519-4e91-b834-3833443e1cdd"
      },
      "source": [
        "#13\r\n",
        "#Write a python program to merge dictionaries with duplicate keys\r\n",
        "ls1=[{'emp_name':'abc', 'emp_id':123, 'ph_number': 1234567, 'address': 'wxyz'}]\r\n",
        "ls2=[{'emp_name':'xyz', 'emp_id':456, 'ph_number': 3456789, 'fax_no':12345}]\r\n",
        "print(\"list1\", ls1, \"\\nlist2\", ls2)\r\n",
        "\r\n",
        "for items in range(0, len(ls1)):\r\n",
        "  key_id=list(ls1[items].keys())\r\n",
        "  for key in ls2[items]:\r\n",
        "    if key not in key_id:\r\n",
        "      ls1[items][key]= ls2[items][key]\r\n",
        "print(\"\\nmerdged dict\", ls1)"
      ],
      "execution_count": 16,
      "outputs": [
        {
          "output_type": "stream",
          "text": [
            "list1 [{'emp_name': 'abc', 'emp_id': 123, 'ph_number': 1234567, 'address': 'wxyz'}] \n",
            "list2 [{'emp_name': 'xyz', 'emp_id': 456, 'ph_number': 3456789, 'fax_no': 12345}]\n",
            "\n",
            "merdged dict [{'emp_name': 'abc', 'emp_id': 123, 'ph_number': 1234567, 'address': 'wxyz', 'fax_no': 12345}]\n"
          ],
          "name": "stdout"
        }
      ]
    },
    {
      "cell_type": "code",
      "metadata": {
        "colab": {
          "base_uri": "https://localhost:8080/"
        },
        "id": "vqDSTjCAK1DS",
        "outputId": "c4a2ae8f-ef17-46a5-ea7b-22867fd520b3"
      },
      "source": [
        "#14\r\n",
        "#Write a python funtion to sort dictionaries by keys or values\r\n",
        "def dictsort():\r\n",
        "  dict1={}\r\n",
        "  dict1[6]=22\r\n",
        "  dict1[2]=14\r\n",
        "  dict1[1]=58\r\n",
        "  dict1[3]=39\r\n",
        "  dict1[4]=88\r\n",
        "  dict1[5]=69\r\n",
        "  \r\n",
        "  for i in sorted(dict1.values()):\r\n",
        "    print(\"Values\", i)\r\n",
        "\r\n",
        "dictsort()"
      ],
      "execution_count": 23,
      "outputs": [
        {
          "output_type": "stream",
          "text": [
            "Values 14\n",
            "Values 22\n",
            "Values 39\n",
            "Values 58\n",
            "Values 69\n",
            "Values 88\n"
          ],
          "name": "stdout"
        }
      ]
    },
    {
      "cell_type": "code",
      "metadata": {
        "colab": {
          "base_uri": "https://localhost:8080/"
        },
        "id": "ZP5-4FUXNcej",
        "outputId": "146695e7-ca7d-45c6-a820-489392a34e86"
      },
      "source": [
        "#15\r\n",
        "#Write a python program to sort dictionary by using date\r\n",
        "\r\n",
        "from datetime import datetime\r\n",
        "list1= [{'emp_name': 'abc', 'hire_date':'12-20-2020'}, \r\n",
        "        {'emp_name': 'xyz', 'hire_date':'8-10-2020'},\r\n",
        "        {'emp_name': 'mno', 'hire_date':'12-06-2020'},\r\n",
        "        {'emp_name': 'jkl', 'hire_date':'12-04-2020'}]\r\n",
        "print(\"\\nlist1\",list1)\r\n",
        "\r\n",
        "list1.sort(key = lambda x: datetime.strptime(x['hire_date'], '%m-%d-%Y'))\r\n",
        "print('\\nres', list1)"
      ],
      "execution_count": 4,
      "outputs": [
        {
          "output_type": "stream",
          "text": [
            "\n",
            "list1 [{'emp_name': 'abc', 'hire_date': '12-20-2020'}, {'emp_name': 'xyz', 'hire_date': '8-10-2020'}, {'emp_name': 'mno', 'hire_date': '12-06-2020'}, {'emp_name': 'jkl', 'hire_date': '12-04-2020'}]\n",
            "\n",
            "res [{'emp_name': 'xyz', 'hire_date': '8-10-2020'}, {'emp_name': 'jkl', 'hire_date': '12-04-2020'}, {'emp_name': 'mno', 'hire_date': '12-06-2020'}, {'emp_name': 'abc', 'hire_date': '12-20-2020'}]\n"
          ],
          "name": "stdout"
        }
      ]
    },
    {
      "cell_type": "code",
      "metadata": {
        "colab": {
          "base_uri": "https://localhost:8080/"
        },
        "id": "qEcU0CpCJByg",
        "outputId": "8ad2c3ad-7e85-459a-ec80-ea8b99f77a7e"
      },
      "source": [
        "#16\r\n",
        "#Write python program to filter odd number in list\r\n",
        "list1= [10, 15, 20, 25, 30, 35, 40, 45, 50, 55, 60, 65]\r\n",
        "print(list1)\r\n",
        "\r\n",
        "list2= list(filter(lambda x:(x%2!=0), list1))\r\n",
        "print(\"\\nodd numbers\", list2)"
      ],
      "execution_count": 6,
      "outputs": [
        {
          "output_type": "stream",
          "text": [
            "[10, 15, 20, 25, 30, 35, 40, 45, 50, 55, 60, 65]\n",
            "\n",
            "odd numbers [15, 25, 35, 45, 55, 65]\n"
          ],
          "name": "stdout"
        }
      ]
    },
    {
      "cell_type": "code",
      "metadata": {
        "colab": {
          "base_uri": "https://localhost:8080/"
        },
        "id": "kwjkJmYHLCVp",
        "outputId": "f90a04df-a974-4c78-f9cd-f2fa141fe6dc"
      },
      "source": [
        "#17\r\n",
        "#Write a python program to change the case of letters in string\r\n",
        "\r\n",
        "string_list= [\"audi\", \"alfa romeo\", \"buick\", \"koeingsegg\", \"mclaren\", \"ds\"]\r\n",
        "upper_case= list(map(lambda string_list: str.upper(string_list), string_list))\r\n",
        "print(upper_case)"
      ],
      "execution_count": 8,
      "outputs": [
        {
          "output_type": "stream",
          "text": [
            "['AUDI', 'ALFA ROMEO', 'BUICK', 'KOEINGSEGG', 'MCLAREN', 'DS']\n"
          ],
          "name": "stdout"
        }
      ]
    },
    {
      "cell_type": "code",
      "metadata": {
        "colab": {
          "base_uri": "https://localhost:8080/"
        },
        "id": "Zqrg67TUNVAT",
        "outputId": "0a9ee198-0017-416d-d9f4-35a4faa6943c"
      },
      "source": [
        "#18\r\n",
        "#Write a python program to calculate the sum of elements in list using lambda function\r\n",
        "\r\n",
        "list1= [10, 15, 17, 21, 27, 38, 47, 59, 73, 89, 96]\r\n",
        "\r\n",
        "from functools import reduce\r\n",
        "s=reduce((lambda x, y: x+y), list1)\r\n",
        "print(s)"
      ],
      "execution_count": 13,
      "outputs": [
        {
          "output_type": "stream",
          "text": [
            "492\n"
          ],
          "name": "stdout"
        }
      ]
    },
    {
      "cell_type": "code",
      "metadata": {
        "colab": {
          "base_uri": "https://localhost:8080/"
        },
        "id": "ZH3nVhQgO2vI",
        "outputId": "4dc9e800-f196-40ff-bb6c-03bd682ca0b4"
      },
      "source": [
        "#19\r\n",
        "#write a python program to find cube of a number using lambda functions\r\n",
        "\r\n",
        "cube = lambda x:x*x*x\r\n",
        "print(cube(9))"
      ],
      "execution_count": 15,
      "outputs": [
        {
          "output_type": "stream",
          "text": [
            "729\n"
          ],
          "name": "stdout"
        }
      ]
    },
    {
      "cell_type": "code",
      "metadata": {
        "colab": {
          "base_uri": "https://localhost:8080/"
        },
        "id": "ph1cAvBBVbjN",
        "outputId": "ed511ac0-e9cb-4179-f339-f0bc5b2ce519"
      },
      "source": [
        "#20\r\n",
        "#write a python program to calculate fibonacci numbers using lambda functions\r\n",
        "\r\n",
        "from functools import reduce\r\n",
        "fibonacci= lambda n: reduce(lambda x, _:x+[x[-1]+x[-2]],range(n-2), [0, 1])\r\n",
        "print(fibonacci(12))"
      ],
      "execution_count": 17,
      "outputs": [
        {
          "output_type": "stream",
          "text": [
            "[0, 1, 1, 2, 3, 5, 8, 13, 21, 34, 55, 89]\n"
          ],
          "name": "stdout"
        }
      ]
    },
    {
      "cell_type": "code",
      "metadata": {
        "colab": {
          "base_uri": "https://localhost:8080/"
        },
        "id": "9NFoFpKOWuwm",
        "outputId": "e11d9202-d765-46dc-8f7a-c3bb9788235e"
      },
      "source": [
        "#21\r\n",
        "#Wtite a python program to arranage +ve and -ve integers using lambda function\r\n",
        "def arrange(num):\r\n",
        "  return[i for i in num if i<0] + [i for i in num if i>=0]\r\n",
        "\r\n",
        "list1= [-4, 10, 6, -8, 9, 1, -6, 0, -2, -10, 3]\r\n",
        "print(arrange(list1))"
      ],
      "execution_count": 10,
      "outputs": [
        {
          "output_type": "stream",
          "text": [
            "[-4, -8, -6, -2, -10, 10, 6, 9, 1, 0, 3]\n"
          ],
          "name": "stdout"
        }
      ]
    },
    {
      "cell_type": "code",
      "metadata": {
        "colab": {
          "base_uri": "https://localhost:8080/"
        },
        "id": "EPlJysB8aYq4",
        "outputId": "6b44355f-c1d4-4969-be35-360c7723001b"
      },
      "source": [
        "#22\r\n",
        "#Write a python program to count +ve and -ve integers in list\r\n",
        "list2 = [-4, 10, 6, -8, 9, 1, -6, 0, -2, -10, 3] \r\n",
        "  \r\n",
        "positive_count, negative_count = 0, 0\r\n",
        "  \r\n",
        "for num in list2: \r\n",
        "\r\n",
        "    if num >= 0: \r\n",
        "        positive_count += 1\r\n",
        "    else: \r\n",
        "        negative_count += 1\r\n",
        "          \r\n",
        "print(\"Positive numbers in the list: \", positive_count) \r\n",
        "print(\"Negative numbers in the list: \", negative_count) "
      ],
      "execution_count": 13,
      "outputs": [
        {
          "output_type": "stream",
          "text": [
            "Positive numbers in the list:  6\n",
            "Negative numbers in the list:  5\n"
          ],
          "name": "stdout"
        }
      ]
    },
    {
      "cell_type": "code",
      "metadata": {
        "colab": {
          "base_uri": "https://localhost:8080/"
        },
        "id": "priTILKpbMkl",
        "outputId": "d24b0c2b-5487-4698-bcf6-e32411f6f94f"
      },
      "source": [
        "#23\r\n",
        "#Write a python program to find duplicate numbers in list\r\n",
        "list1= [20,10, 4, 8, 9, 10, 17, 20, 30, 9, 8]\r\n",
        "\r\n",
        "def repeated_numbers(x):\r\n",
        "  size = len(x) \r\n",
        "  repeated = [] \r\n",
        "  for i in range(size): \r\n",
        "    k = i + 1\r\n",
        "    for j in range(k, size):\r\n",
        "      if x[i] == x[j] and x[i] not in repeated: \r\n",
        "        repeated.append(x[i]) \r\n",
        "  return repeated \r\n",
        "\r\n",
        "print(repeated_numbers(list1))"
      ],
      "execution_count": 15,
      "outputs": [
        {
          "output_type": "stream",
          "text": [
            "[20, 10, 8, 9]\n"
          ],
          "name": "stdout"
        }
      ]
    },
    {
      "cell_type": "code",
      "metadata": {
        "colab": {
          "base_uri": "https://localhost:8080/"
        },
        "id": "LNa---gOca2l",
        "outputId": "e7f8e6fb-e9b0-47ab-a76f-8cd891fe9e9e"
      },
      "source": [
        "#24\r\n",
        "#Write python funtion to find largest, second largest, smallest, second smallest numbers in list\r\n",
        "\r\n",
        "def num_length(list1): \r\n",
        "    length = len(lst1) \r\n",
        "    lst1.sort() \r\n",
        "    print(\"Largest element is:\", lst1[length-1]) \r\n",
        "    print(\"Second Largest element is:\", lst1[length-2]) \r\n",
        "    print(\"Smallest element is:\", lst1[0])\r\n",
        "    print(\"Second Smallest element is:\", lst1[1]) \r\n",
        "  \r\n",
        "# Driver Code \r\n",
        "lst1=[-4, 10, 6, -8, 9, 1, -6, 0, -2, -10, 3] \r\n",
        "Largest = num_length(lst1)"
      ],
      "execution_count": 17,
      "outputs": [
        {
          "output_type": "stream",
          "text": [
            "Largest element is: 10\n",
            "Second Largest element is: 9\n",
            "Smallest element is: -10\n",
            "Second Smallest element is: -8\n"
          ],
          "name": "stdout"
        }
      ]
    },
    {
      "cell_type": "code",
      "metadata": {
        "colab": {
          "base_uri": "https://localhost:8080/"
        },
        "id": "7AG75IkMem7J",
        "outputId": "e065452c-a51c-46e1-eced-5e3d1ac6b2cb"
      },
      "source": [
        "#25\r\n",
        "#Write python program to find the second element of tuple by using first element\r\n",
        "list1= [(1,2), (3, 4), (7,8), (9,10)]\r\n",
        "n=7\r\n",
        "first_element= [y for (x,y) in list1 if x==n]\r\n",
        "print(\"Seciond element of tuple\", first_element)"
      ],
      "execution_count": 22,
      "outputs": [
        {
          "output_type": "stream",
          "text": [
            "Seciond element of tuple [8]\n"
          ],
          "name": "stdout"
        }
      ]
    },
    {
      "cell_type": "code",
      "metadata": {
        "colab": {
          "base_uri": "https://localhost:8080/"
        },
        "id": "rb1Ly_TOf5O5",
        "outputId": "8d4a28e6-e4e5-443e-fdc3-8cb882b7b95c"
      },
      "source": [
        "#26\r\n",
        "#Write a python to convert tuples to tuple pair\r\n",
        "from itertools import product \r\n",
        "  \r\n",
        "tuple1 = ('a', 'b', 'c', 'd') \r\n",
        "\r\n",
        "tuple1 = iter(tuple1) \r\n",
        "pair = list(product(next(tuple1), tuple1)) \r\n",
        "  \r\n",
        "print(\"paired tuples\", (pair)) \r\n"
      ],
      "execution_count": 28,
      "outputs": [
        {
          "output_type": "stream",
          "text": [
            "paired tuples [('a', 'b'), ('a', 'c'), ('a', 'd')]\n"
          ],
          "name": "stdout"
        }
      ]
    },
    {
      "cell_type": "code",
      "metadata": {
        "colab": {
          "base_uri": "https://localhost:8080/"
        },
        "id": "KBpA_3xihp__",
        "outputId": "8beff823-f06c-49d5-b860-eeef4405a720"
      },
      "source": [
        "#27\r\n",
        "#Write a python program to convert string to list of tuples\r\n",
        "str1= \"(key, value), (key, value)\"\r\n",
        "\r\n",
        "output=[]\r\n",
        "temp=[]\r\n",
        "\r\n",
        "for elements in str1.split(\", \"): \r\n",
        "    id = str(elements.replace(\"(\", \"\").replace(\")\", \"\")) \r\n",
        "    temp.append(id) \r\n",
        "    if \")\" in elements: \r\n",
        "       output.append(tuple(temp)) \r\n",
        "       temp = [] \r\n",
        "print(\"Tuple list\", output)"
      ],
      "execution_count": 40,
      "outputs": [
        {
          "output_type": "stream",
          "text": [
            "Tuple list [('key', 'value'), ('key', 'value')]\n"
          ],
          "name": "stdout"
        }
      ]
    },
    {
      "cell_type": "code",
      "metadata": {
        "colab": {
          "base_uri": "https://localhost:8080/"
        },
        "id": "j1WoAKhlkbxp",
        "outputId": "16159f00-ec9f-4bdd-8bb8-0f66901d8951"
      },
      "source": [
        "#28\r\n",
        "#Write python funtion to multiply the list of tuples\r\n",
        "def mul(num):  \r\n",
        "    output = 1 \r\n",
        "    for element in num:  \r\n",
        "        output *= element \r\n",
        "    return output\r\n",
        "list1 = [[(1, 2), (3, 3), (5, 5)], [(3, 6), (7, 9), (10, 12)]]\r\n",
        "print(\"list\", list1)\r\n",
        "\r\n",
        "output = [tuple(mul(i) for i in zip(*j)) for j in zip(*list1)] \r\n",
        "print(\"\\nMultiplication\", output)\r\n",
        "\r\n"
      ],
      "execution_count": 43,
      "outputs": [
        {
          "output_type": "stream",
          "text": [
            "list [[(1, 2), (3, 3), (5, 5)], [(3, 6), (7, 9), (10, 12)]]\n",
            "\n",
            "Multiplication [(3, 12), (21, 27), (50, 60)]\n"
          ],
          "name": "stdout"
        }
      ]
    },
    {
      "cell_type": "code",
      "metadata": {
        "colab": {
          "base_uri": "https://localhost:8080/"
        },
        "id": "aJZq26mO5gC9",
        "outputId": "cfc376cc-c7a2-410d-a597-9d96c864557e"
      },
      "source": [
        "#29\r\n",
        "#write python program to join list elements with characters\r\n",
        "\r\n",
        "list1= ['10', '15', '35', '6', '48']\r\n",
        "character= \"_\"\r\n",
        "character= character.join((list1))\r\n",
        "print(character)"
      ],
      "execution_count": 49,
      "outputs": [
        {
          "output_type": "stream",
          "text": [
            "10_15_35_6_48\n"
          ],
          "name": "stdout"
        }
      ]
    },
    {
      "cell_type": "code",
      "metadata": {
        "colab": {
          "base_uri": "https://localhost:8080/"
        },
        "id": "1uQuH_RH6upD",
        "outputId": "99401239-a2a1-44e7-ccbe-d3f02b3077b8"
      },
      "source": [
        "#30\r\n",
        "#Write python funtion to join cycle in list\r\n",
        "\r\n",
        "def cycle(list1, num, stop = None): \r\n",
        "    temp = dict(list1) \r\n",
        "    stop = stop if stop is not None else num \r\n",
        "    while True: \r\n",
        "        yield (num) \r\n",
        "        num = temp.get(num, stop) \r\n",
        "        if num == stop: break\r\n",
        "\r\n",
        "list1= [[7,2], [2, 3], [3, 7]]\r\n",
        "print(\"cycle elements\")\r\n",
        "for element in cycle(list1, 3):\r\n",
        "  print(element)"
      ],
      "execution_count": 57,
      "outputs": [
        {
          "output_type": "stream",
          "text": [
            "cycle elements\n",
            "3\n",
            "7\n",
            "2\n"
          ],
          "name": "stdout"
        }
      ]
    },
    {
      "cell_type": "code",
      "metadata": {
        "id": "ATSHLih-_bVr"
      },
      "source": [
        ""
      ],
      "execution_count": null,
      "outputs": []
    }
  ]
}